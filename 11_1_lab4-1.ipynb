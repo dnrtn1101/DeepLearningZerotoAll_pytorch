{
 "cells": [
  {
   "cell_type": "markdown",
   "metadata": {},
   "source": [
    "# Lab-04 Multivariable Linear regression and Loading Data"
   ]
  },
  {
   "cell_type": "markdown",
   "metadata": {},
   "source": [
    "이전에는 Simple Linear regression이었다면 이번에는 여러개의 변수에 대해 하나의 예측값이 나오게 하는 Multivariable Linear regression을 해보려고 한다."
   ]
  },
  {
   "cell_type": "code",
   "execution_count": 1,
   "metadata": {},
   "outputs": [],
   "source": [
    "import torch\n",
    "from torch import optim"
   ]
  },
  {
   "cell_type": "code",
   "execution_count": 2,
   "metadata": {},
   "outputs": [],
   "source": [
    "x_train = torch.FloatTensor([[73, 80, 75],\n",
    "                            [93, 88, 93],\n",
    "                            [89, 91, 90],\n",
    "                            [96, 98, 100],\n",
    "                            [73, 66, 70]])\n",
    "\n",
    "y_train = torch.FloatTensor([[152], [185], [180], [196], [142]])"
   ]
  },
  {
   "cell_type": "markdown",
   "metadata": {},
   "source": [
    "### Compute Hypothesis\n",
    "$$y=Wx+b$$\n",
    "Simple Linear Regression과 식자체는 일치하지만 $x$가 scalar 값에서 vector로 바뀐 것이다.\n",
    "\n",
    "예를 들어 입력 변수가 3개라고 했을때, $$y=w_1x_1+w_2x_2+w_3x_3+b$$라고 볼 수 있다.\n"
   ]
  },
  {
   "cell_type": "code",
   "execution_count": 5,
   "metadata": {},
   "outputs": [
    {
     "name": "stdout",
     "output_type": "stream",
     "text": [
      "Epoch  100/1000, hypothesis: tensor([152.7695, 183.6982, 180.9592, 197.0628, 140.1332]), Cost:1.564299\n",
      "Epoch  200/1000, hypothesis: tensor([152.7277, 183.7271, 180.9466, 197.0518, 140.1727]), Cost:1.498234\n",
      "Epoch  300/1000, hypothesis: tensor([152.6870, 183.7551, 180.9344, 197.0410, 140.2112]), Cost:1.435647\n",
      "Epoch  400/1000, hypothesis: tensor([152.6474, 183.7825, 180.9225, 197.0305, 140.2487]), Cost:1.376296\n",
      "Epoch  500/1000, hypothesis: tensor([152.6089, 183.8091, 180.9109, 197.0202, 140.2852]), Cost:1.320047\n",
      "Epoch  600/1000, hypothesis: tensor([152.5714, 183.8349, 180.8997, 197.0102, 140.3208]), Cost:1.266736\n",
      "Epoch  700/1000, hypothesis: tensor([152.5350, 183.8601, 180.8888, 197.0004, 140.3554]), Cost:1.216203\n",
      "Epoch  800/1000, hypothesis: tensor([152.4995, 183.8846, 180.8781, 196.9908, 140.3891]), Cost:1.168279\n",
      "Epoch  900/1000, hypothesis: tensor([152.4651, 183.9085, 180.8678, 196.9815, 140.4220]), Cost:1.122853\n",
      "Epoch 1000/1000, hypothesis: tensor([152.4315, 183.9316, 180.8578, 196.9724, 140.4540]), Cost:1.079796\n"
     ]
    }
   ],
   "source": [
    "W = torch.zeros((3,1), requires_grad = True)\n",
    "b = torch.zeros(1,requires_grad = True)\n",
    "\n",
    "\n",
    "optimizer = optim.SGD([W, b], lr = 1e-5)\n",
    "\n",
    "epochs = 1000\n",
    "for epoch in range(1,epochs+1):\n",
    "    \n",
    "    # matmul을 이용하여 hypothesis를 표현하였다. \n",
    "    hypothesis = x_train.matmul(W)+b\n",
    "    \n",
    "    # 이후 행동은 simple linear regression과 동일하다.\n",
    "    cost = torch.mean((y_train-hypothesis)**2)\n",
    "    \n",
    "    optimizer.zero_grad()\n",
    "    cost.backward()\n",
    "    optimizer.step()\n",
    "    \n",
    "    if epoch %100 ==0:\n",
    "        print('Epoch {:4d}/{}, hypothesis: {}, Cost:{:.6f}'.format(\n",
    "        epoch,epochs, hypothesis.squeeze().detach(), cost.item()))"
   ]
  },
  {
   "cell_type": "markdown",
   "metadata": {},
   "source": [
    "### nn.module을 사용하여 모델을 만들어 보자!\n",
    "\n",
    "nn.module의 경우 custom한 모델을 만들기 위해서 상속받는 것이며, forward을 정의해서 자신만의 모듈을 만들 수 있다."
   ]
  },
  {
   "cell_type": "code",
   "execution_count": 6,
   "metadata": {},
   "outputs": [],
   "source": [
    "import torch.nn as nn\n",
    "\n",
    "class Multi_Linear(nn.Module):\n",
    "    def __init__(self):\n",
    "        super().__init__()\n",
    "        ## nn이라는 library안에 Linear함수가 이미 내장되어 있어 그것을 꺼내 사용하고, (input size, output size)를 의미한다.\n",
    "        self.linear = nn.Linear(3, 1)\n",
    "        \n",
    "    # forward에서 hypothesis를 계산한다고 보면 된다.\n",
    "    def forward(self, x):\n",
    "        return self.linear(x)\n",
    "\n"
   ]
  },
  {
   "cell_type": "markdown",
   "metadata": {},
   "source": [
    "### torch.nn.functional library를 이용하여 loss함수를 불러보자!"
   ]
  },
  {
   "cell_type": "code",
   "execution_count": 7,
   "metadata": {},
   "outputs": [],
   "source": [
    "import torch.nn.functional as F\n",
    "\n",
    "# mse loss함수 또한 이미 내장되어있다. 이런식으로 할 경우 내장되어있는 다른 함수와 교체가 쉬워진다.\n",
    "cost = F.mse_loss(hypothesis, y_train)"
   ]
  },
  {
   "cell_type": "markdown",
   "metadata": {},
   "source": [
    "### 그렇다면 바꾼 것들을 이용하여 모델을 새로 코딩해보자!"
   ]
  },
  {
   "cell_type": "code",
   "execution_count": 9,
   "metadata": {},
   "outputs": [
    {
     "name": "stdout",
     "output_type": "stream",
     "text": [
      "Epoch  100/1000, hypothesis: tensor([154.4220, 182.4948, 181.3660, 198.0656, 137.9721]), Cost:6.899693\n",
      "Epoch  200/1000, hypothesis: tensor([154.3283, 182.5594, 181.3378, 198.0415, 138.0600]), Cost:6.571748\n",
      "Epoch  300/1000, hypothesis: tensor([154.2371, 182.6223, 181.3103, 198.0181, 138.1455]), Cost:6.261016\n",
      "Epoch  400/1000, hypothesis: tensor([154.1485, 182.6835, 181.2836, 197.9951, 138.2288]), Cost:5.966525\n",
      "Epoch  500/1000, hypothesis: tensor([154.0622, 182.7429, 181.2577, 197.9727, 138.3099]), Cost:5.687458\n",
      "Epoch  600/1000, hypothesis: tensor([153.9783, 182.8008, 181.2324, 197.9509, 138.3889]), Cost:5.422935\n",
      "Epoch  700/1000, hypothesis: tensor([153.8967, 182.8571, 181.2079, 197.9296, 138.4659]), Cost:5.172279\n",
      "Epoch  800/1000, hypothesis: tensor([153.8172, 182.9120, 181.1840, 197.9087, 138.5408]), Cost:4.934695\n",
      "Epoch  900/1000, hypothesis: tensor([153.7400, 182.9653, 181.1608, 197.8884, 138.6138]), Cost:4.709536\n",
      "Epoch 1000/1000, hypothesis: tensor([153.6649, 183.0172, 181.1382, 197.8685, 138.6848]), Cost:4.496109\n"
     ]
    }
   ],
   "source": [
    "######## W = torch.zeros((3,1), requires_grad = True)\n",
    "######## b = torch.zeros(1,requires_grad = True)\n",
    "model = Multi_Linear()\n",
    "\n",
    "\n",
    "######## optimizer = optim.SGD([W, b], lr = 1e-5)\n",
    "optimizer = optim.SGD(model.parameters(), lr=1e-5)\n",
    "\n",
    "epochs = 1000\n",
    "for epoch in range(1,epochs+1):\n",
    "    \n",
    "    ######## hypothesis = x_train.matmul(W)+b\n",
    "    hypothesis = model(x_train)\n",
    "    \n",
    "    ######## cost = torch.mean((y_train-hypothesis)**2)\n",
    "    cost = F.mse_loss(hypothesis, y_train)\n",
    "    \n",
    "    optimizer.zero_grad()\n",
    "    cost.backward()\n",
    "    optimizer.step()\n",
    "    \n",
    "    if epoch %100 ==0:\n",
    "        print('Epoch {:4d}/{}, hypothesis: {}, Cost:{:.6f}'.format(\n",
    "        epoch,epochs, hypothesis.squeeze().detach(), cost.item()))"
   ]
  }
 ],
 "metadata": {
  "kernelspec": {
   "display_name": "Python 3",
   "language": "python",
   "name": "python3"
  },
  "language_info": {
   "codemirror_mode": {
    "name": "ipython",
    "version": 3
   },
   "file_extension": ".py",
   "mimetype": "text/x-python",
   "name": "python",
   "nbconvert_exporter": "python",
   "pygments_lexer": "ipython3",
   "version": "3.7.4"
  }
 },
 "nbformat": 4,
 "nbformat_minor": 2
}
